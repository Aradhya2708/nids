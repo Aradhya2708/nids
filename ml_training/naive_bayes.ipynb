{
  "nbformat": 4,
  "nbformat_minor": 0,
  "metadata": {
    "colab": {
      "provenance": []
    },
    "kernelspec": {
      "name": "python3",
      "display_name": "Python 3"
    },
    "language_info": {
      "name": "python"
    }
  },
  "cells": [
    {
      "cell_type": "markdown",
      "source": [
        "## Imports"
      ],
      "metadata": {
        "id": "Q0Z6aPFGGg_W"
      }
    },
    {
      "cell_type": "code",
      "execution_count": null,
      "metadata": {
        "id": "hjA08f0Q9Lr4"
      },
      "outputs": [],
      "source": [
        "import joblib\n",
        "import pickle\n",
        "import numpy as np\n",
        "import pandas as pd\n",
        "import matplotlib.pyplot as plt\n",
        "from sklearn.metrics import (\n",
        "    accuracy_score,\n",
        "    confusion_matrix,\n",
        "    ConfusionMatrixDisplay,\n",
        "    roc_curve,\n",
        "    auc,\n",
        "    RocCurveDisplay,\n",
        "    precision_recall_curve,\n",
        "    PrecisionRecallDisplay,\n",
        "    classification_report,\n",
        ")\n"
      ]
    },
    {
      "cell_type": "markdown",
      "source": [
        "## Data Loading"
      ],
      "metadata": {
        "id": "oIHOt8poGjbV"
      }
    },
    {
      "cell_type": "code",
      "source": [
        "data = joblib.load(\"data_splits.pkl\") ## Load the pre-processed data splits from the pickle file\n",
        "\n",
        "#Extract the training, validation, and testing data\n",
        "X_train = data[\"X_train\"]\n",
        "X_val = data[\"X_val\"]\n",
        "X_test = data[\"X_test\"]\n",
        "y_train = data[\"y_train\"]\n",
        "y_val = data[\"y_val\"]\n",
        "y_test = data[\"y_test\"]"
      ],
      "metadata": {
        "id": "cjkrHkgX9hXX"
      },
      "execution_count": null,
      "outputs": []
    },
    {
      "cell_type": "markdown",
      "source": [
        "## Naive Bayes Class"
      ],
      "metadata": {
        "id": "V5xllEWyGmGH"
      }
    },
    {
      "source": [
        "class NaiveBayes:\n",
        "    def __init__(self, smoothing=1):\n",
        "        self.smoothing = smoothing  # Laplace smoothing parameter\n",
        "        self.class_probs = {} # Store probabilities of each class\n",
        "        self.feature_probs = {}  # Store probabilities of features given a class\n",
        "\n",
        "    def train(self, X, y):\n",
        "        classes = np.unique(y)\n",
        "        n_samples = len(y)\n",
        "        self.y = y # Store y as an instance variable\n",
        "\n",
        "        # Calculate class probabilities\n",
        "        for cls in classes:\n",
        "            self.class_probs[cls] = np.sum(y == cls) / n_samples\n",
        "            self.feature_probs[cls] = {}\n",
        "\n",
        "             # Calculate feature probabilities for each feature\n",
        "            for feature_idx in range(X.shape[1]):\n",
        "                feature_values = np.unique(X[:, feature_idx])\n",
        "                self.feature_probs[cls][feature_idx] = {}\n",
        "\n",
        "                for value in feature_values:\n",
        "                    n_value_cls = np.sum((X[:, feature_idx] == value) & (y == cls))\n",
        "                    n_cls = np.sum(y == cls)\n",
        "                    self.feature_probs[cls][feature_idx][value] = (n_value_cls + self.smoothing) / (n_cls + self.smoothing * len(feature_values))\n",
        "\n",
        "    def predict(self, X):\n",
        "      #Predicts the class labels for the given data\n",
        "        predictions = []\n",
        "        for sample in X:\n",
        "            class_scores = {} # store scores for each class\n",
        "            for cls in self.class_probs:\n",
        "                score = self.class_probs[cls] # start with prior probability of the class\n",
        "                for feature_idx, value in enumerate(sample):\n",
        "                    if value in self.feature_probs[cls][feature_idx]:\n",
        "                        score *= self.feature_probs[cls][feature_idx][value] # Multiply by likelihood if feature seen\n",
        "                    else:\n",
        "                        # Handle unseen feature values using self.y\n",
        "                        score *= self.smoothing / (np.sum(self.y == cls) + self.smoothing * len(np.unique(X[:, feature_idx])))\n",
        "\n",
        "                class_scores[cls] = score # Store the score for this class\n",
        "\n",
        "            predicted_class = max(class_scores, key=class_scores.get)\n",
        "            predictions.append(predicted_class)\n",
        "\n",
        "        return np.array(predictions)\n",
        "\n",
        "    def predict_proba(self, X):\n",
        "        \"\"\"Predicts the probability of each class for each sample.\"\"\"\n",
        "        probabilities = []\n",
        "        for sample in X:\n",
        "            class_scores = {}\n",
        "            total_score = 0  # To normalize probabilities\n",
        "\n",
        "             # Calculate scores for each class\n",
        "            for cls in self.class_probs:\n",
        "                score = self.class_probs[cls]\n",
        "                for feature_idx, value in enumerate(sample):\n",
        "                    if value in self.feature_probs[cls][feature_idx]:\n",
        "                      # if feature value seen during training, multiply by likelihood\n",
        "                        score *= self.feature_probs[cls][feature_idx][value]\n",
        "                    else:\n",
        "                        # Handle unseen feature values using self.y\n",
        "                        score *= self.smoothing / (np.sum(self.y == cls) + self.smoothing * len(np.unique(X[:, feature_idx])))\n",
        "\n",
        "                class_scores[cls] = score\n",
        "                total_score += score  # Add to total score\n",
        "\n",
        "            # Normalize scores to get probabilities\n",
        "            class_probs = {cls: score / total_score for cls, score in class_scores.items()}\n",
        "            probabilities.append([class_probs.get(0, 0), class_probs.get(1, 0)])  # Assuming binary classification\n",
        "\n",
        "        return np.array(probabilities)"
      ],
      "cell_type": "code",
      "metadata": {
        "id": "2fIKbsOY-xDt"
      },
      "execution_count": null,
      "outputs": []
    },
    {
      "cell_type": "markdown",
      "source": [
        "## Training and Evaluation"
      ],
      "metadata": {
        "id": "41sgzN2AGwWF"
      }
    },
    {
      "cell_type": "code",
      "source": [
        "# Initialize variables to store the best accuracy and corresponding smoothing value\n",
        "best_accuracy = 0\n",
        "best_smoothing = 1\n",
        "\n",
        "# Lists to store smoothing values and their corresponding accuracies\n",
        "smoothing_values = []\n",
        "accuracies = []\n",
        "# Try different smoothing values\n",
        "\n",
        "for smoothing in [1, 2, 3, 4, 5]:\n",
        "    model = NaiveBayes(smoothing=smoothing)\n",
        "    model.train(X_train.values, y_train.values)  # Train the model on the training data\n",
        "    y_pred = model.predict(X_val.values) # Make predictions on the validation data\n",
        "    accuracy = accuracy_score(y_val, y_pred) # Calculate accuracy on the validation data\n",
        "\n",
        "\n",
        "    # Store the smoothing value and accuracy\n",
        "    smoothing_values.append(smoothing)\n",
        "    accuracies.append(accuracy)\n",
        "\n",
        "    if accuracy > best_accuracy:  # Update best accuracy and smoothing if the current model is better\n",
        "        best_accuracy = accuracy\n",
        "        best_smoothing = smoothing\n",
        "\n",
        "\n",
        "\n",
        "print(f\"Best Smoothing: {best_smoothing}, Best Accuracy: {best_accuracy:.4f}\")\n",
        "\n",
        "# Evaluate on the test set\n",
        "model = NaiveBayes(smoothing=best_smoothing) # Create a model with the best smoothing\n",
        "model.train(X_train.values, y_train.values)\n",
        "y_pred = model.predict(X_test.values)\n",
        "y_prob = model.predict_proba(X_test.values)[:, 1]\n",
        "test_accuracy = accuracy_score(y_test, y_pred)\n",
        "print(f\"Test Accuracy: {test_accuracy:.4f}\")\n",
        "\n",
        "# Plot the accuracy vs. smoothing parameter\n",
        "plt.plot(smoothing_values, accuracies, marker='o')\n",
        "plt.xlabel('Smoothing Parameter')\n",
        "plt.ylabel('Accuracy')\n",
        "plt.title('Naive Bayes Accuracy vs. Smoothing Parameter')\n",
        "plt.grid(True)\n",
        "plt.show()"
      ],
      "metadata": {
        "colab": {
          "base_uri": "https://localhost:8080/",
          "height": 507
        },
        "id": "xtkML2-l99Ir",
        "outputId": "74cedb7e-e449-4947-adc4-ef4a573d44c3"
      },
      "execution_count": null,
      "outputs": [
        {
          "output_type": "stream",
          "name": "stdout",
          "text": [
            "Best Smoothing: 1, Best Accuracy: 0.8970\n",
            "Test Accuracy: 0.9046\n"
          ]
        },
        {
          "output_type": "display_data",
          "data": {
            "text/plain": [
              "<Figure size 640x480 with 1 Axes>"
            ],
            "image/png": "[encoded data removed]"
          },
          "metadata": {}
        }
      ]
    },
    {
      "cell_type": "markdown",
      "source": [
        "## Confusion Matrix"
      ],
      "metadata": {
        "id": "41nFDQqnHFfp"
      }
    },
    {
      "cell_type": "code",
      "source": [
        "cm = confusion_matrix(y_test, y_pred)\n",
        "disp = ConfusionMatrixDisplay(confusion_matrix=cm, display_labels=np.unique(y_test))\n",
        "disp.plot(cmap='Blues')\n",
        "plt.title(\"Confusion Matrix\")\n",
        "plt.show()"
      ],
      "metadata": {
        "colab": {
          "base_uri": "https://localhost:8080/",
          "height": 472
        },
        "id": "CjDSDXvDZftB",
        "outputId": "77b79d8b-f87c-4205-cb37-dacb1ecbc54a"
      },
      "execution_count": null,
      "outputs": [
        {
          "output_type": "display_data",
          "data": {
            "text/plain": [
              "<Figure size 640x480 with 2 Axes>"
            ],
            "image/png": "[encoded data removed]"
          },
          "metadata": {}
        }
      ]
    },
    {
      "cell_type": "markdown",
      "source": [
        "## ROC curve"
      ],
      "metadata": {
        "id": "OR8g9EQQHLSK"
      }
    },
    {
      "cell_type": "code",
      "source": [
        "# calculate the false positive rate (fpr), true positive rate (tpr), and thresholds\n",
        "fpr, tpr, _ = roc_curve(y_test, y_prob)\n",
        "roc_auc = auc(fpr, tpr) # Calculate the area under the ROC curve (AUC)\n",
        "disp = RocCurveDisplay(fpr=fpr, tpr=tpr, roc_auc=roc_auc) # Create a ROC curve display object\n",
        "disp.plot()\n",
        "plt.show()"
      ],
      "metadata": {
        "colab": {
          "base_uri": "https://localhost:8080/",
          "height": 451
        },
        "id": "5yOAhEr6Ay_B",
        "outputId": "8cceeabc-97ee-44b5-c8eb-956a65a43a1a"
      },
      "execution_count": null,
      "outputs": [
        {
          "output_type": "display_data",
          "data": {
            "text/plain": [
              "<Figure size 640x480 with 1 Axes>"
            ],
            "image/png": "[encoded data removed]"
          },
          "metadata": {}
        }
      ]
    },
    {
      "cell_type": "markdown",
      "source": [
        "## Precision-Recall Curve"
      ],
      "metadata": {
        "id": "C2ji3Vo_HVix"
      }
    },
    {
      "cell_type": "code",
      "source": [
        "# Calculate precision and recall values at different thresholds\n",
        "precision, recall, _ = precision_recall_curve(y_test, y_prob)\n",
        "disp = PrecisionRecallDisplay(precision=precision, recall=recall) # Create a Precision-Recall curve display object\n",
        "disp.plot()\n",
        "plt.show()"
      ],
      "metadata": {
        "colab": {
          "base_uri": "https://localhost:8080/",
          "height": 451
        },
        "id": "GHTI5ckoA2BU",
        "outputId": "0fcb72ad-3625-4702-c21e-1f8be8e3e9d3"
      },
      "execution_count": null,
      "outputs": [
        {
          "output_type": "display_data",
          "data": {
            "text/plain": [
              "<Figure size 640x480 with 1 Axes>"
            ],
            "image/png": "[encoded data removed]"
          },
          "metadata": {}
        }
      ]
    },
    {
      "cell_type": "markdown",
      "source": [
        "## Classification Report"
      ],
      "metadata": {
        "id": "71u3tAfiHa45"
      }
    },
    {
      "source": [
        "report = classification_report(y_test, y_pred, output_dict=True)  # Get report as dict\n",
        "df_report = pd.DataFrame(report).transpose()\n",
        "display(df_report)"
      ],
      "cell_type": "code",
      "metadata": {
        "colab": {
          "base_uri": "https://localhost:8080/",
          "height": 206
        },
        "id": "IDE3N9XOaCSN",
        "outputId": "291a1d12-b3ae-4eff-c76d-378282e91059"
      },
      "execution_count": null,
      "outputs": [
        {
          "output_type": "display_data",
          "data": {
            "text/plain": [
              "              precision    recall  f1-score       support\n",
              "0              0.857338  0.979549  0.914378  11540.000000\n",
              "1              0.973781  0.823314  0.892248  10646.000000\n",
              "accuracy       0.904579  0.904579  0.904579      0.904579\n",
              "macro avg      0.915559  0.901432  0.903313  22186.000000\n",
              "weighted avg   0.913213  0.904579  0.903759  22186.000000"
            ],
            "text/html": [
              "\n",
              "  <div id=\"df-5cf02e57-e825-4534-9e70-560c7c988fed\" class=\"colab-df-container\">\n",
              "    <div>\n",
              "<style scoped>\n",
              "    .dataframe tbody tr th:only-of-type {\n",
              "        vertical-align: middle;\n",
              "    }\n",
              "\n",
              "    .dataframe tbody tr th {\n",
              "        vertical-align: top;\n",
              "    }\n",
              "\n",
              "    .dataframe thead th {\n",
              "        text-align: right;\n",
              "    }\n",
              "</style>\n",
              "<table border=\"1\" class=\"dataframe\">\n",
              "  <thead>\n",
              "    <tr style=\"text-align: right;\">\n",
              "      <th></th>\n",
              "      <th>precision</th>\n",
              "      <th>recall</th>\n",
              "      <th>f1-score</th>\n",
              "      <th>support</th>\n",
              "    </tr>\n",
              "  </thead>\n",
              "  <tbody>\n",
              "    <tr>\n",
              "      <th>0</th>\n",
              "      <td>0.857338</td>\n",
              "      <td>0.979549</td>\n",
              "      <td>0.914378</td>\n",
              "      <td>11540.000000</td>\n",
              "    </tr>\n",
              "    <tr>\n",
              "      <th>1</th>\n",
              "      <td>0.973781</td>\n",
              "      <td>0.823314</td>\n",
              "      <td>0.892248</td>\n",
              "      <td>10646.000000</td>\n",
              "    </tr>\n",
              "    <tr>\n",
              "      <th>accuracy</th>\n",
              "      <td>0.904579</td>\n",
              "      <td>0.904579</td>\n",
              "      <td>0.904579</td>\n",
              "      <td>0.904579</td>\n",
              "    </tr>\n",
              "    <tr>\n",
              "      <th>macro avg</th>\n",
              "      <td>0.915559</td>\n",
              "      <td>0.901432</td>\n",
              "      <td>0.903313</td>\n",
              "      <td>22186.000000</td>\n",
              "    </tr>\n",
              "    <tr>\n",
              "      <th>weighted avg</th>\n",
              "      <td>0.913213</td>\n",
              "      <td>0.904579</td>\n",
              "      <td>0.903759</td>\n",
              "      <td>22186.000000</td>\n",
              "    </tr>\n",
              "  </tbody>\n",
              "</table>\n",
              "</div>\n",
              "    <div class=\"colab-df-buttons\">\n",
              "\n",
              "  <div class=\"colab-df-container\">\n",
              "    <button class=\"colab-df-convert\" onclick=\"convertToInteractive('df-5cf02e57-e825-4534-9e70-560c7c988fed')\"\n",
              "            title=\"Convert this dataframe to an interactive table.\"\n",
              "            style=\"display:none;\">\n",
              "\n",
              "  <svg xmlns=\"http://www.w3.org/2000/svg\" height=\"24px\" viewBox=\"0 -960 960 960\">\n",
              "    <path d=\"M120-120v-720h720v720H120Zm60-500h600v-160H180v160Zm220 220h160v-160H400v160Zm0 220h160v-160H400v160ZM180-400h160v-160H180v160Zm440 0h160v-160H620v160ZM180-180h160v-160H180v160Zm440 0h160v-160H620v160Z\"/>\n",
              "  </svg>\n",
              "    </button>\n",
              "\n",
              "  <style>\n",
              "    .colab-df-container {\n",
              "      display:flex;\n",
              "      gap: 12px;\n",
              "    }\n",
              "\n",
              "    .colab-df-convert {\n",
              "      background-color: #E8F0FE;\n",
              "      border: none;\n",
              "      border-radius: 50%;\n",
              "      cursor: pointer;\n",
              "      display: none;\n",
              "      fill: #1967D2;\n",
              "      height: 32px;\n",
              "      padding: 0 0 0 0;\n",
              "      width: 32px;\n",
              "    }\n",
              "\n",
              "    .colab-df-convert:hover {\n",
              "      background-color: #E2EBFA;\n",
              "      box-shadow: 0px 1px 2px rgba(60, 64, 67, 0.3), 0px 1px 3px 1px rgba(60, 64, 67, 0.15);\n",
              "      fill: #174EA6;\n",
              "    }\n",
              "\n",
              "    .colab-df-buttons div {\n",
              "      margin-bottom: 4px;\n",
              "    }\n",
              "\n",
              "    [theme=dark] .colab-df-convert {\n",
              "      background-color: #3B4455;\n",
              "      fill: #D2E3FC;\n",
              "    }\n",
              "\n",
              "    [theme=dark] .colab-df-convert:hover {\n",
              "      background-color: #434B5C;\n",
              "      box-shadow: 0px 1px 3px 1px rgba(0, 0, 0, 0.15);\n",
              "      filter: drop-shadow(0px 1px 2px rgba(0, 0, 0, 0.3));\n",
              "      fill: #FFFFFF;\n",
              "    }\n",
              "  </style>\n",
              "\n",
              "    <script>\n",
              "      const buttonEl =\n",
              "        document.querySelector('#df-5cf02e57-e825-4534-9e70-560c7c988fed button.colab-df-convert');\n",
              "      buttonEl.style.display =\n",
              "        google.colab.kernel.accessAllowed ? 'block' : 'none';\n",
              "\n",
              "      async function convertToInteractive(key) {\n",
              "        const element = document.querySelector('#df-5cf02e57-e825-4534-9e70-560c7c988fed');\n",
              "        const dataTable =\n",
              "          await google.colab.kernel.invokeFunction('convertToInteractive',\n",
              "                                                    [key], {});\n",
              "        if (!dataTable) return;\n",
              "\n",
              "        const docLinkHtml = 'Like what you see? Visit the ' +\n",
              "          '<a target=\"_blank\" href=https://colab.research.google.com/notebooks/data_table.ipynb>data table notebook</a>'\n",
              "          + ' to learn more about interactive tables.';\n",
              "        element.innerHTML = '';\n",
              "        dataTable['output_type'] = 'display_data';\n",
              "        await google.colab.output.renderOutput(dataTable, element);\n",
              "        const docLink = document.createElement('div');\n",
              "        docLink.innerHTML = docLinkHtml;\n",
              "        element.appendChild(docLink);\n",
              "      }\n",
              "    </script>\n",
              "  </div>\n",
              "\n",
              "\n",
              "<div id=\"df-16047fa1-40e6-422a-89f2-ccd7eff53b54\">\n",
              "  <button class=\"colab-df-quickchart\" onclick=\"quickchart('df-16047fa1-40e6-422a-89f2-ccd7eff53b54')\"\n",
              "            title=\"Suggest charts\"\n",
              "            style=\"display:none;\">\n",
              "\n",
              "<svg xmlns=\"http://www.w3.org/2000/svg\" height=\"24px\"viewBox=\"0 0 24 24\"\n",
              "     width=\"24px\">\n",
              "    <g>\n",
              "        <path d=\"M19 3H5c-1.1 0-2 .9-2 2v14c0 1.1.9 2 2 2h14c1.1 0 2-.9 2-2V5c0-1.1-.9-2-2-2zM9 17H7v-7h2v7zm4 0h-2V7h2v10zm4 0h-2v-4h2v4z\"/>\n",
              "    </g>\n",
              "</svg>\n",
              "  </button>\n",
              "\n",
              "<style>\n",
              "  .colab-df-quickchart {\n",
              "      --bg-color: #E8F0FE;\n",
              "      --fill-color: #1967D2;\n",
              "      --hover-bg-color: #E2EBFA;\n",
              "      --hover-fill-color: #174EA6;\n",
              "      --disabled-fill-color: #AAA;\n",
              "      --disabled-bg-color: #DDD;\n",
              "  }\n",
              "\n",
              "  [theme=dark] .colab-df-quickchart {\n",
              "      --bg-color: #3B4455;\n",
              "      --fill-color: #D2E3FC;\n",
              "      --hover-bg-color: #434B5C;\n",
              "      --hover-fill-color: #FFFFFF;\n",
              "      --disabled-bg-color: #3B4455;\n",
              "      --disabled-fill-color: #666;\n",
              "  }\n",
              "\n",
              "  .colab-df-quickchart {\n",
              "    background-color: var(--bg-color);\n",
              "    border: none;\n",
              "    border-radius: 50%;\n",
              "    cursor: pointer;\n",
              "    display: none;\n",
              "    fill: var(--fill-color);\n",
              "    height: 32px;\n",
              "    padding: 0;\n",
              "    width: 32px;\n",
              "  }\n",
              "\n",
              "  .colab-df-quickchart:hover {\n",
              "    background-color: var(--hover-bg-color);\n",
              "    box-shadow: 0 1px 2px rgba(60, 64, 67, 0.3), 0 1px 3px 1px rgba(60, 64, 67, 0.15);\n",
              "    fill: var(--button-hover-fill-color);\n",
              "  }\n",
              "\n",
              "  .colab-df-quickchart-complete:disabled,\n",
              "  .colab-df-quickchart-complete:disabled:hover {\n",
              "    background-color: var(--disabled-bg-color);\n",
              "    fill: var(--disabled-fill-color);\n",
              "    box-shadow: none;\n",
              "  }\n",
              "\n",
              "  .colab-df-spinner {\n",
              "    border: 2px solid var(--fill-color);\n",
              "    border-color: transparent;\n",
              "    border-bottom-color: var(--fill-color);\n",
              "    animation:\n",
              "      spin 1s steps(1) infinite;\n",
              "  }\n",
              "\n",
              "  @keyframes spin {\n",
              "    0% {\n",
              "      border-color: transparent;\n",
              "      border-bottom-color: var(--fill-color);\n",
              "      border-left-color: var(--fill-color);\n",
              "    }\n",
              "    20% {\n",
              "      border-color: transparent;\n",
              "      border-left-color: var(--fill-color);\n",
              "      border-top-color: var(--fill-color);\n",
              "    }\n",
              "    30% {\n",
              "      border-color: transparent;\n",
              "      border-left-color: var(--fill-color);\n",
              "      border-top-color: var(--fill-color);\n",
              "      border-right-color: var(--fill-color);\n",
              "    }\n",
              "    40% {\n",
              "      border-color: transparent;\n",
              "      border-right-color: var(--fill-color);\n",
              "      border-top-color: var(--fill-color);\n",
              "    }\n",
              "    60% {\n",
              "      border-color: transparent;\n",
              "      border-right-color: var(--fill-color);\n",
              "    }\n",
              "    80% {\n",
              "      border-color: transparent;\n",
              "      border-right-color: var(--fill-color);\n",
              "      border-bottom-color: var(--fill-color);\n",
              "    }\n",
              "    90% {\n",
              "      border-color: transparent;\n",
              "      border-bottom-color: var(--fill-color);\n",
              "    }\n",
              "  }\n",
              "</style>\n",
              "\n",
              "  <script>\n",
              "    async function quickchart(key) {\n",
              "      const quickchartButtonEl =\n",
              "        document.querySelector('#' + key + ' button');\n",
              "      quickchartButtonEl.disabled = true;  // To prevent multiple clicks.\n",
              "      quickchartButtonEl.classList.add('colab-df-spinner');\n",
              "      try {\n",
              "        const charts = await google.colab.kernel.invokeFunction(\n",
              "            'suggestCharts', [key], {});\n",
              "      } catch (error) {\n",
              "        console.error('Error during call to suggestCharts:', error);\n",
              "      }\n",
              "      quickchartButtonEl.classList.remove('colab-df-spinner');\n",
              "      quickchartButtonEl.classList.add('colab-df-quickchart-complete');\n",
              "    }\n",
              "    (() => {\n",
              "      let quickchartButtonEl =\n",
              "        document.querySelector('#df-16047fa1-40e6-422a-89f2-ccd7eff53b54 button');\n",
              "      quickchartButtonEl.style.display =\n",
              "        google.colab.kernel.accessAllowed ? 'block' : 'none';\n",
              "    })();\n",
              "  </script>\n",
              "</div>\n",
              "\n",
              "  <div id=\"id_85ba054c-fe9d-4dc9-bec8-21d73028efc9\">\n",
              "    <style>\n",
              "      .colab-df-generate {\n",
              "        background-color: #E8F0FE;\n",
              "        border: none;\n",
              "        border-radius: 50%;\n",
              "        cursor: pointer;\n",
              "        display: none;\n",
              "        fill: #1967D2;\n",
              "        height: 32px;\n",
              "        padding: 0 0 0 0;\n",
              "        width: 32px;\n",
              "      }\n",
              "\n",
              "      .colab-df-generate:hover {\n",
              "        background-color: #E2EBFA;\n",
              "        box-shadow: 0px 1px 2px rgba(60, 64, 67, 0.3), 0px 1px 3px 1px rgba(60, 64, 67, 0.15);\n",
              "        fill: #174EA6;\n",
              "      }\n",
              "\n",
              "      [theme=dark] .colab-df-generate {\n",
              "        background-color: #3B4455;\n",
              "        fill: #D2E3FC;\n",
              "      }\n",
              "\n",
              "      [theme=dark] .colab-df-generate:hover {\n",
              "        background-color: #434B5C;\n",
              "        box-shadow: 0px 1px 3px 1px rgba(0, 0, 0, 0.15);\n",
              "        filter: drop-shadow(0px 1px 2px rgba(0, 0, 0, 0.3));\n",
              "        fill: #FFFFFF;\n",
              "      }\n",
              "    </style>\n",
              "    <button class=\"colab-df-generate\" onclick=\"generateWithVariable('df_report')\"\n",
              "            title=\"Generate code using this dataframe.\"\n",
              "            style=\"display:none;\">\n",
              "\n",
              "  <svg xmlns=\"http://www.w3.org/2000/svg\" height=\"24px\"viewBox=\"0 0 24 24\"\n",
              "       width=\"24px\">\n",
              "    <path d=\"M7,19H8.4L18.45,9,17,7.55,7,17.6ZM5,21V16.75L18.45,3.32a2,2,0,0,1,2.83,0l1.4,1.43a1.91,1.91,0,0,1,.58,1.4,1.91,1.91,0,0,1-.58,1.4L9.25,21ZM18.45,9,17,7.55Zm-12,3A5.31,5.31,0,0,0,4.9,8.1,5.31,5.31,0,0,0,1,6.5,5.31,5.31,0,0,0,4.9,4.9,5.31,5.31,0,0,0,6.5,1,5.31,5.31,0,0,0,8.1,4.9,5.31,5.31,0,0,0,12,6.5,5.46,5.46,0,0,0,6.5,12Z\"/>\n",
              "  </svg>\n",
              "    </button>\n",
              "    <script>\n",
              "      (() => {\n",
              "      const buttonEl =\n",
              "        document.querySelector('#id_85ba054c-fe9d-4dc9-bec8-21d73028efc9 button.colab-df-generate');\n",
              "      buttonEl.style.display =\n",
              "        google.colab.kernel.accessAllowed ? 'block' : 'none';\n",
              "\n",
              "      buttonEl.onclick = () => {\n",
              "        google.colab.notebook.generateWithVariable('df_report');\n",
              "      }\n",
              "      })();\n",
              "    </script>\n",
              "  </div>\n",
              "\n",
              "    </div>\n",
              "  </div>\n"
            ],
            "application/vnd.google.colaboratory.intrinsic+json": {
              "type": "dataframe",
              "variable_name": "df_report",
              "summary": "{\n  \"name\": \"df_report\",\n  \"rows\": 5,\n  \"fields\": [\n    {\n      \"column\": \"precision\",\n      \"properties\": {\n        \"dtype\": \"number\",\n        \"std\": 0.04144275669898534,\n        \"min\": 0.8573378839590444,\n        \"max\": 0.9737806910343295,\n        \"num_unique_values\": 5,\n        \"samples\": [\n          0.9737806910343295,\n          0.9132132163363763,\n          0.9045794645271793\n        ],\n        \"semantic_type\": \"\",\n        \"description\": \"\"\n      }\n    },\n    {\n      \"column\": \"recall\",\n      \"properties\": {\n        \"dtype\": \"number\",\n        \"std\": 0.055264482024929486,\n        \"min\": 0.8233139207213978,\n        \"max\": 0.9795493934142114,\n        \"num_unique_values\": 4,\n        \"samples\": [\n          0.8233139207213978,\n          0.9014316570678046,\n          0.9795493934142114\n        ],\n        \"semantic_type\": \"\",\n        \"description\": \"\"\n      }\n    },\n    {\n      \"column\": \"f1-score\",\n      \"properties\": {\n        \"dtype\": \"number\",\n        \"std\": 0.007843532273305597,\n        \"min\": 0.8922481803837736,\n        \"max\": 0.9143781597573306,\n        \"num_unique_values\": 5,\n        \"samples\": [\n          0.8922481803837736,\n          0.9037590413758788,\n          0.9045794645271793\n        ],\n        \"semantic_type\": \"\",\n        \"description\": \"\"\n      }\n    },\n    {\n      \"column\": \"support\",\n      \"properties\": {\n        \"dtype\": \"number\",\n        \"std\": 9286.126117152018,\n        \"min\": 0.9045794645271793,\n        \"max\": 22186.0,\n        \"num_unique_values\": 4,\n        \"samples\": [\n          10646.0,\n          22186.0,\n          11540.0\n        ],\n        \"semantic_type\": \"\",\n        \"description\": \"\"\n      }\n    }\n  ]\n}"
            }
          },
          "metadata": {}
        }
      ]
    },
    {
      "cell_type": "markdown",
      "source": [],
      "metadata": {
        "id": "rYl76UkkA1uM"
      }
    }
  ]
}
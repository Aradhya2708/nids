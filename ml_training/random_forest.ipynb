{
  "nbformat": 4,
  "nbformat_minor": 0,
  "metadata": {
    "colab": {
      "provenance": []
    },
    "kernelspec": {
      "name": "python3",
      "display_name": "Python 3"
    },
    "language_info": {
      "name": "python"
    }
  },
  "cells": [
    {
      "cell_type": "markdown",
      "source": [
        "# Imports"
      ],
      "metadata": {
        "id": "CYLQw2drVe0x"
      }
    },
    {
      "cell_type": "code",
      "execution_count": null,
      "metadata": {
        "id": "VX2jPXf-UDzZ"
      },
      "outputs": [],
      "source": [
        "import joblib\n",
        "import numpy as np\n",
        "import pandas as pd\n",
        "import matplotlib.pyplot as plt\n",
        "from collections import Counter\n",
        "from sklearn.utils import resample\n",
        "from sklearn.metrics import (\n",
        "    accuracy_score,\n",
        "    confusion_matrix,\n",
        "    ConfusionMatrixDisplay,\n",
        "    roc_curve,\n",
        "    auc,\n",
        "    RocCurveDisplay,\n",
        "    precision_recall_curve,\n",
        "    PrecisionRecallDisplay,\n",
        "    classification_report\n",
        ")\n",
        "import pickle"
      ]
    },
    {
      "cell_type": "markdown",
      "source": [
        "# Data Loading"
      ],
      "metadata": {
        "id": "EGBTaseRVgmA"
      }
    },
    {
      "cell_type": "code",
      "source": [
        "data = joblib.load(\"data_splits.pkl\")\n",
        "\n",
        "X_train = data[\"X_train\"]\n",
        "X_val = data[\"X_val\"]\n",
        "X_test = data[\"X_test\"]\n",
        "y_train = data[\"y_train\"]\n",
        "y_val = data[\"y_val\"]\n",
        "y_test = data[\"y_test\"]"
      ],
      "metadata": {
        "id": "L3p4heUNU8S_"
      },
      "execution_count": null,
      "outputs": []
    },
    {
      "cell_type": "markdown",
      "source": [
        "# Decision Tree"
      ],
      "metadata": {
        "id": "BdYW4jrwViSG"
      }
    },
    {
      "cell_type": "code",
      "source": [
        "class DecisionTreeNode:\n",
        "    \"\"\"Class for a decision tree node.\"\"\"\n",
        "    def __init__(self, feature=None, threshold=None, left=None, right=None, value=None):\n",
        "        self.feature = feature\n",
        "        self.threshold = threshold\n",
        "        self.left = left\n",
        "        self.right = right\n",
        "        self.value = value\n",
        "\n",
        "class DecisionTree:\n",
        "    def __init__(self, max_depth=3):\n",
        "        self.max_depth = max_depth\n",
        "        self.root = None\n",
        "\n",
        "    def train(self, data, labels):\n",
        "        \"\"\"Initialize training by building the tree.\"\"\"\n",
        "        self.root = self._fit(data, labels, depth=0)\n",
        "\n",
        "    def _fit(self, data, labels, depth):\n",
        "        \"\"\"Recursively builds the decision tree.\"\"\"\n",
        "        if depth == self.max_depth or len(np.unique(labels)) == 1:\n",
        "            # Stop if max depth reached or node is pure\n",
        "            return DecisionTreeNode(value=np.bincount(labels).argmax())\n",
        "\n",
        "        best_feature, best_threshold = self._best_split(data, labels)\n",
        "\n",
        "        if best_feature is None or best_threshold is None:\n",
        "            # Stop if no good split is found\n",
        "            return DecisionTreeNode(value=np.bincount(labels).argmax())\n",
        "\n",
        "        left_mask = data[:, best_feature] <= best_threshold\n",
        "        right_mask = ~left_mask\n",
        "\n",
        "        if np.all(left_mask) or np.all(right_mask):\n",
        "            # Prevent infinite splitting\n",
        "            return DecisionTreeNode(value=np.bincount(labels).argmax())\n",
        "\n",
        "        left_child = self._fit(data[left_mask], labels[left_mask], depth + 1)\n",
        "        right_child = self._fit(data[right_mask], labels[right_mask], depth + 1)\n",
        "\n",
        "        return DecisionTreeNode(feature=best_feature, threshold=best_threshold, left=left_child, right=right_child)\n",
        "\n",
        "    def _best_split(self, data, labels):\n",
        "        \"\"\"Finds the best feature and threshold for splitting.\"\"\"\n",
        "        best_info_gain = -1\n",
        "        best_feature = None\n",
        "        best_threshold = None\n",
        "\n",
        "        num_features = data.shape[1]\n",
        "\n",
        "        for feature_index in range(num_features):\n",
        "            info_gain, threshold = self._compute_information_gain(data, feature_index, labels)\n",
        "            if info_gain > best_info_gain:\n",
        "                best_info_gain = info_gain\n",
        "                best_feature = feature_index\n",
        "                best_threshold = threshold\n",
        "\n",
        "        return best_feature, best_threshold\n",
        "\n",
        "    def _compute_information_gain(self, data, feature_index, labels):\n",
        "        \"\"\"Computes the best info gain and threshold for a feature.\"\"\"\n",
        "        parent_entropy = self._entropy(labels)\n",
        "\n",
        "        unique_values = np.unique(data[:, feature_index])\n",
        "        best_info_gain = -1\n",
        "        best_threshold = None\n",
        "\n",
        "        for i in range(len(unique_values) - 1):\n",
        "            threshold = (unique_values[i] + unique_values[i + 1]) / 2\n",
        "            left_mask = data[:, feature_index] <= threshold\n",
        "            right_mask = ~left_mask\n",
        "\n",
        "            left_entropy = self._entropy(labels[left_mask])\n",
        "            right_entropy = self._entropy(labels[right_mask])\n",
        "\n",
        "            weighted_entropy = (\n",
        "                (np.sum(left_mask) / len(labels)) * left_entropy +\n",
        "                (np.sum(right_mask) / len(labels)) * right_entropy\n",
        "            )\n",
        "            info_gain = parent_entropy - weighted_entropy\n",
        "\n",
        "            if info_gain > best_info_gain:\n",
        "                best_info_gain = info_gain\n",
        "                best_threshold = threshold\n",
        "\n",
        "        return best_info_gain, best_threshold\n",
        "\n",
        "    def _entropy(self, labels):\n",
        "        \"\"\"Computes entropy of a label set.\"\"\"\n",
        "        unique_labels, counts = np.unique(labels, return_counts=True)\n",
        "        probabilities = counts / len(labels)\n",
        "        entropy = -np.sum(probabilities * np.log2(probabilities))\n",
        "        return entropy\n",
        "\n",
        "    def _predict_single(self, x, node):\n",
        "        \"\"\"Predict label for one sample.\"\"\"\n",
        "        if node.value is not None:\n",
        "            return node.value\n",
        "        if x[node.feature] <= node.threshold:\n",
        "            return self._predict_single(x, node.left)\n",
        "        else:\n",
        "            return self._predict_single(x, node.right)\n",
        "\n",
        "    def predict(self, X):\n",
        "        \"\"\"Predict labels for a dataset.\"\"\"\n",
        "        return np.array([self._predict_single(x, self.root) for x in X])\n",
        "\n",
        "    def predict_prob(self, X):\n",
        "        \"\"\"Return probability estimates for each input sample.\"\"\"\n",
        "        return np.array([self._predict_proba_single(x, self.root) for x in X])\n",
        "\n",
        "    def predict_prob_single(self, x, node):\n",
        "        \"\"\"Traverse the tree to compute class probabilities at leaf.\"\"\"\n",
        "        if node.value is not None:\n",
        "            # Return a probability distribution (for binary classification)\n",
        "            proba = np.zeros(2)\n",
        "            proba[node.value] = 1.0\n",
        "            return proba\n",
        "\n",
        "        if x[node.feature] <= node.threshold:\n",
        "            return self.predict_prob_single(x, node.left)\n",
        "        else:\n",
        "            return self.predict_prob_single(x, node.right)"
      ],
      "metadata": {
        "id": "sIvydcPjU9r1"
      },
      "execution_count": null,
      "outputs": []
    },
    {
      "cell_type": "markdown",
      "source": [
        "# Random Forest Model"
      ],
      "metadata": {
        "id": "_yDThyHxVlAO"
      }
    },
    {
      "cell_type": "code",
      "source": [
        "class RandomForest:\n",
        "    def __init__(self, n_estimators=10, max_depth=3, max_features=None):\n",
        "        self.n_estimators = n_estimators\n",
        "        self.max_depth = max_depth\n",
        "        self.max_features = max_features\n",
        "        self.trees = []\n",
        "\n",
        "    def _select_features(self, X):\n",
        "        n_features = X.shape[1]\n",
        "        if self.max_features is None:\n",
        "            return np.arange(n_features)\n",
        "        elif isinstance(self.max_features, int):\n",
        "            return np.random.choice(n_features, self.max_features, replace=False)\n",
        "        elif isinstance(self.max_features, float):\n",
        "            count = max(1, int(self.max_features * n_features))\n",
        "            return np.random.choice(n_features, count, replace=False)\n",
        "        else:\n",
        "            raise ValueError(\"Invalid value for max_features\")\n",
        "\n",
        "    def train(self, X, y):\n",
        "        self.trees = []\n",
        "        for _ in range(self.n_estimators):\n",
        "            # Bootstrap sampling\n",
        "            X_sample, y_sample = resample(X, y)\n",
        "\n",
        "            # Feature subspace selection\n",
        "            selected_features = self._select_features(X_sample)\n",
        "            X_sub = X_sample[:, selected_features]\n",
        "\n",
        "            tree = DecisionTree(max_depth=self.max_depth)\n",
        "            tree.train(X_sub, y_sample)\n",
        "            self.trees.append((tree, selected_features))\n",
        "\n",
        "    def _predict_single(self, x):\n",
        "        predictions = []\n",
        "        for tree, features in self.trees:\n",
        "            x_sub = x[features]\n",
        "            prediction = tree._predict_single(x_sub, tree.root)\n",
        "            predictions.append(prediction)\n",
        "        return Counter(predictions).most_common(1)[0][0]\n",
        "\n",
        "    def predict(self, X):\n",
        "        return np.array([self._predict_single(x) for x in X])\n",
        "\n",
        "    def predict_prob(self, X):\n",
        "        \"\"\"Returns average probability estimates for each input sample (binary classification).\"\"\"\n",
        "        all_probs = []\n",
        "        for tree, features in self.trees:\n",
        "            probas = np.array([tree.predict_prob_single(x[features], tree.root) for x in X])\n",
        "            all_probs.append(probas)\n",
        "        mean_probs = np.mean(all_probs, axis=0)\n",
        "        return mean_probs"
      ],
      "metadata": {
        "id": "UvJvehmGU_SB"
      },
      "execution_count": null,
      "outputs": []
    },
    {
      "cell_type": "markdown",
      "source": [
        "# Hyperparameter Tuning"
      ],
      "metadata": {
        "id": "sm5eBv4eVnSO"
      }
    },
    {
      "cell_type": "code",
      "source": [
        "# Hyperparameter options\n",
        "n_estimators_options = [3, 5, 7]\n",
        "max_depth_options = [2, 4, 6]\n",
        "\n",
        "# Tracking best model\n",
        "best_model = None\n",
        "best_accuracy = 0\n",
        "best_params = {}\n",
        "\n",
        "for n_estimators in n_estimators_options:\n",
        "    for max_depth in max_depth_options:\n",
        "        model = RandomForest(n_estimators=n_estimators, max_depth=max_depth)\n",
        "        model.train(X_train.values, y_train.values)\n",
        "\n",
        "        y_pred = model.predict(X_val.values)\n",
        "        acc = accuracy_score(y_val, y_pred)\n",
        "\n",
        "        print(f\"[Random Forest] Estimators: {n_estimators}, Max Depth: {max_depth} -> Validation Accuracy: {acc:.4f}\")\n",
        "\n",
        "        if acc > best_accuracy:\n",
        "            best_accuracy = acc\n",
        "            best_model = model\n",
        "            best_params = {'n_estimators': n_estimators, 'max_depth': max_depth}\n",
        "\n",
        "print(f\"\\nBest Random Forest Params: {best_params}, Best Accuracy: {best_accuracy:.4f}\")"
      ],
      "metadata": {
        "colab": {
          "base_uri": "https://localhost:8080/"
        },
        "id": "BPzIETbwVIZl",
        "outputId": "521ae835-2128-4e3b-baef-43a44785d4a2"
      },
      "execution_count": null,
      "outputs": [
        {
          "output_type": "stream",
          "name": "stdout",
          "text": [
            "[Random Forest] Estimators: 3, Max Depth: 2 -> Validation Accuracy: 0.9019\n",
            "[Random Forest] Estimators: 3, Max Depth: 4 -> Validation Accuracy: 0.9497\n",
            "[Random Forest] Estimators: 3, Max Depth: 6 -> Validation Accuracy: 0.9748\n",
            "[Random Forest] Estimators: 5, Max Depth: 2 -> Validation Accuracy: 0.9020\n",
            "[Random Forest] Estimators: 5, Max Depth: 4 -> Validation Accuracy: 0.9500\n",
            "[Random Forest] Estimators: 5, Max Depth: 6 -> Validation Accuracy: 0.9750\n",
            "[Random Forest] Estimators: 7, Max Depth: 2 -> Validation Accuracy: 0.9020\n",
            "[Random Forest] Estimators: 7, Max Depth: 4 -> Validation Accuracy: 0.9492\n",
            "[Random Forest] Estimators: 7, Max Depth: 6 -> Validation Accuracy: 0.9746\n",
            "\n",
            "Best Random Forest Params: {'n_estimators': 5, 'max_depth': 6}, Best Accuracy: 0.9750\n"
          ]
        }
      ]
    },
    {
      "cell_type": "markdown",
      "source": [
        "# Training on best Hyperparameters"
      ],
      "metadata": {
        "id": "SBC77NNwVqBH"
      }
    },
    {
      "cell_type": "code",
      "source": [
        "model = RandomForest(n_estimators=best_params['n_estimators'], max_depth=best_params['max_depth'])\n",
        "model.train(X_train.values, y_train.values)\n",
        "\n",
        "y_pred = model.predict(X_test.values)\n",
        "acc = accuracy_score(y_test, y_pred)\n",
        "\n",
        "print(f\"Test accuracy: {acc:.4f}\")"
      ],
      "metadata": {
        "colab": {
          "base_uri": "https://localhost:8080/"
        },
        "id": "lZE-pDCuVaCY",
        "outputId": "7adeb686-5a70-4152-ac45-003483fdb8ad"
      },
      "execution_count": null,
      "outputs": [
        {
          "output_type": "stream",
          "name": "stdout",
          "text": [
            "Test accuracy: 0.9776\n"
          ]
        }
      ]
    },
    {
      "cell_type": "code",
      "source": [
        "y_prob = model.predict_prob(X_test.values)[:, 1]"
      ],
      "metadata": {
        "id": "JxRPiyxhbg9P"
      },
      "execution_count": null,
      "outputs": []
    },
    {
      "cell_type": "markdown",
      "source": [
        "# Result Evaluation"
      ],
      "metadata": {
        "id": "OtLgJL-PXkV5"
      }
    },
    {
      "cell_type": "code",
      "source": [
        "cm = confusion_matrix(y_test, y_pred)\n",
        "disp = ConfusionMatrixDisplay(confusion_matrix=cm)\n",
        "disp.plot(cmap=\"Blues\")\n",
        "plt.title(\"Confusion Matrix\")\n",
        "plt.show()"
      ],
      "metadata": {
        "colab": {
          "base_uri": "https://localhost:8080/",
          "height": 472
        },
        "id": "mH6CRUgCVafj",
        "outputId": "1272d6a1-65ac-4959-e5d8-fa5422e22712"
      },
      "execution_count": null,
      "outputs": [
        {
          "output_type": "display_data",
          "data": {
            "text/plain": [
              "<Figure size 640x480 with 2 Axes>"
            ],
            "image/png": "[encoded data removed]"
          },
          "metadata": {}
        }
      ]
    },
    {
      "cell_type": "code",
      "source": [
        "fpr, tpr, _ = roc_curve(y_test, y_prob)\n",
        "roc_auc = auc(fpr, tpr)\n",
        "RocCurveDisplay(fpr=fpr, tpr=tpr, roc_auc=roc_auc).plot()\n",
        "plt.title(f\"ROC Curve (AUC = {roc_auc:.2f})\")\n",
        "plt.tight_layout()\n",
        "plt.show()"
      ],
      "metadata": {
        "colab": {
          "base_uri": "https://localhost:8080/",
          "height": 487
        },
        "id": "kyWxoc8SWNEW",
        "outputId": "aefd78d5-4e30-4895-9a0f-1ab0e1e3f1e0"
      },
      "execution_count": null,
      "outputs": [
        {
          "output_type": "display_data",
          "data": {
            "text/plain": [
              "<Figure size 640x480 with 1 Axes>"
            ],
            "image/png": "[encoded data removed]"
          },
          "metadata": {}
        }
      ]
    },
    {
      "cell_type": "code",
      "source": [
        "precision, recall, _ = precision_recall_curve(y_test, y_prob)\n",
        "PrecisionRecallDisplay(precision=precision, recall=recall).plot()\n",
        "plt.title(\"Precision-Recall Curve\")\n",
        "plt.show()"
      ],
      "metadata": {
        "colab": {
          "base_uri": "https://localhost:8080/",
          "height": 472
        },
        "id": "VoiLOPUqWemw",
        "outputId": "ddcba187-e712-4b3e-8bb6-e877eb9383e6"
      },
      "execution_count": null,
      "outputs": [
        {
          "output_type": "display_data",
          "data": {
            "text/plain": [
              "<Figure size 640x480 with 1 Axes>"
            ],
            "image/png": "[encoded data removed]"
          },
          "metadata": {}
        }
      ]
    },
    {
      "cell_type": "code",
      "source": [
        "report = classification_report(y_test, y_pred, output_dict=True)\n",
        "df_report = pd.DataFrame(report).transpose()\n",
        "df_report"
      ],
      "metadata": {
        "colab": {
          "base_uri": "https://localhost:8080/",
          "height": 206
        },
        "id": "OpS1NgnBWfvz",
        "outputId": "45ecb7c5-802e-4356-f768-ccf898d3de4c"
      },
      "execution_count": null,
      "outputs": [
        {
          "output_type": "execute_result",
          "data": {
            "text/plain": [
              "              precision    recall  f1-score       support\n",
              "0              0.973258  0.983969  0.978584  11540.000000\n",
              "1              0.982413  0.970693  0.976518  10646.000000\n",
              "accuracy       0.977598  0.977598  0.977598      0.977598\n",
              "macro avg      0.977835  0.977331  0.977551  22186.000000\n",
              "weighted avg   0.977651  0.977598  0.977593  22186.000000"
            ],
            "text/html": [
              "\n",
              "  <div id=\"df-4a3d9a1e-53fb-4652-96d6-91d9b0e58072\" class=\"colab-df-container\">\n",
              "    <div>\n",
              "<style scoped>\n",
              "    .dataframe tbody tr th:only-of-type {\n",
              "        vertical-align: middle;\n",
              "    }\n",
              "\n",
              "    .dataframe tbody tr th {\n",
              "        vertical-align: top;\n",
              "    }\n",
              "\n",
              "    .dataframe thead th {\n",
              "        text-align: right;\n",
              "    }\n",
              "</style>\n",
              "<table border=\"1\" class=\"dataframe\">\n",
              "  <thead>\n",
              "    <tr style=\"text-align: right;\">\n",
              "      <th></th>\n",
              "      <th>precision</th>\n",
              "      <th>recall</th>\n",
              "      <th>f1-score</th>\n",
              "      <th>support</th>\n",
              "    </tr>\n",
              "  </thead>\n",
              "  <tbody>\n",
              "    <tr>\n",
              "      <th>0</th>\n",
              "      <td>0.973258</td>\n",
              "      <td>0.983969</td>\n",
              "      <td>0.978584</td>\n",
              "      <td>11540.000000</td>\n",
              "    </tr>\n",
              "    <tr>\n",
              "      <th>1</th>\n",
              "      <td>0.982413</td>\n",
              "      <td>0.970693</td>\n",
              "      <td>0.976518</td>\n",
              "      <td>10646.000000</td>\n",
              "    </tr>\n",
              "    <tr>\n",
              "      <th>accuracy</th>\n",
              "      <td>0.977598</td>\n",
              "      <td>0.977598</td>\n",
              "      <td>0.977598</td>\n",
              "      <td>0.977598</td>\n",
              "    </tr>\n",
              "    <tr>\n",
              "      <th>macro avg</th>\n",
              "      <td>0.977835</td>\n",
              "      <td>0.977331</td>\n",
              "      <td>0.977551</td>\n",
              "      <td>22186.000000</td>\n",
              "    </tr>\n",
              "    <tr>\n",
              "      <th>weighted avg</th>\n",
              "      <td>0.977651</td>\n",
              "      <td>0.977598</td>\n",
              "      <td>0.977593</td>\n",
              "      <td>22186.000000</td>\n",
              "    </tr>\n",
              "  </tbody>\n",
              "</table>\n",
              "</div>\n",
              "    <div class=\"colab-df-buttons\">\n",
              "\n",
              "  <div class=\"colab-df-container\">\n",
              "    <button class=\"colab-df-convert\" onclick=\"convertToInteractive('df-4a3d9a1e-53fb-4652-96d6-91d9b0e58072')\"\n",
              "            title=\"Convert this dataframe to an interactive table.\"\n",
              "            style=\"display:none;\">\n",
              "\n",
              "  <svg xmlns=\"http://www.w3.org/2000/svg\" height=\"24px\" viewBox=\"0 -960 960 960\">\n",
              "    <path d=\"M120-120v-720h720v720H120Zm60-500h600v-160H180v160Zm220 220h160v-160H400v160Zm0 220h160v-160H400v160ZM180-400h160v-160H180v160Zm440 0h160v-160H620v160ZM180-180h160v-160H180v160Zm440 0h160v-160H620v160Z\"/>\n",
              "  </svg>\n",
              "    </button>\n",
              "\n",
              "  <style>\n",
              "    .colab-df-container {\n",
              "      display:flex;\n",
              "      gap: 12px;\n",
              "    }\n",
              "\n",
              "    .colab-df-convert {\n",
              "      background-color: #E8F0FE;\n",
              "      border: none;\n",
              "      border-radius: 50%;\n",
              "      cursor: pointer;\n",
              "      display: none;\n",
              "      fill: #1967D2;\n",
              "      height: 32px;\n",
              "      padding: 0 0 0 0;\n",
              "      width: 32px;\n",
              "    }\n",
              "\n",
              "    .colab-df-convert:hover {\n",
              "      background-color: #E2EBFA;\n",
              "      box-shadow: 0px 1px 2px rgba(60, 64, 67, 0.3), 0px 1px 3px 1px rgba(60, 64, 67, 0.15);\n",
              "      fill: #174EA6;\n",
              "    }\n",
              "\n",
              "    .colab-df-buttons div {\n",
              "      margin-bottom: 4px;\n",
              "    }\n",
              "\n",
              "    [theme=dark] .colab-df-convert {\n",
              "      background-color: #3B4455;\n",
              "      fill: #D2E3FC;\n",
              "    }\n",
              "\n",
              "    [theme=dark] .colab-df-convert:hover {\n",
              "      background-color: #434B5C;\n",
              "      box-shadow: 0px 1px 3px 1px rgba(0, 0, 0, 0.15);\n",
              "      filter: drop-shadow(0px 1px 2px rgba(0, 0, 0, 0.3));\n",
              "      fill: #FFFFFF;\n",
              "    }\n",
              "  </style>\n",
              "\n",
              "    <script>\n",
              "      const buttonEl =\n",
              "        document.querySelector('#df-4a3d9a1e-53fb-4652-96d6-91d9b0e58072 button.colab-df-convert');\n",
              "      buttonEl.style.display =\n",
              "        google.colab.kernel.accessAllowed ? 'block' : 'none';\n",
              "\n",
              "      async function convertToInteractive(key) {\n",
              "        const element = document.querySelector('#df-4a3d9a1e-53fb-4652-96d6-91d9b0e58072');\n",
              "        const dataTable =\n",
              "          await google.colab.kernel.invokeFunction('convertToInteractive',\n",
              "                                                    [key], {});\n",
              "        if (!dataTable) return;\n",
              "\n",
              "        const docLinkHtml = 'Like what you see? Visit the ' +\n",
              "          '<a target=\"_blank\" href=https://colab.research.google.com/notebooks/data_table.ipynb>data table notebook</a>'\n",
              "          + ' to learn more about interactive tables.';\n",
              "        element.innerHTML = '';\n",
              "        dataTable['output_type'] = 'display_data';\n",
              "        await google.colab.output.renderOutput(dataTable, element);\n",
              "        const docLink = document.createElement('div');\n",
              "        docLink.innerHTML = docLinkHtml;\n",
              "        element.appendChild(docLink);\n",
              "      }\n",
              "    </script>\n",
              "  </div>\n",
              "\n",
              "\n",
              "<div id=\"df-136fbd20-70c5-4b7f-b9b3-df9c7c0312d9\">\n",
              "  <button class=\"colab-df-quickchart\" onclick=\"quickchart('df-136fbd20-70c5-4b7f-b9b3-df9c7c0312d9')\"\n",
              "            title=\"Suggest charts\"\n",
              "            style=\"display:none;\">\n",
              "\n",
              "<svg xmlns=\"http://www.w3.org/2000/svg\" height=\"24px\"viewBox=\"0 0 24 24\"\n",
              "     width=\"24px\">\n",
              "    <g>\n",
              "        <path d=\"M19 3H5c-1.1 0-2 .9-2 2v14c0 1.1.9 2 2 2h14c1.1 0 2-.9 2-2V5c0-1.1-.9-2-2-2zM9 17H7v-7h2v7zm4 0h-2V7h2v10zm4 0h-2v-4h2v4z\"/>\n",
              "    </g>\n",
              "</svg>\n",
              "  </button>\n",
              "\n",
              "<style>\n",
              "  .colab-df-quickchart {\n",
              "      --bg-color: #E8F0FE;\n",
              "      --fill-color: #1967D2;\n",
              "      --hover-bg-color: #E2EBFA;\n",
              "      --hover-fill-color: #174EA6;\n",
              "      --disabled-fill-color: #AAA;\n",
              "      --disabled-bg-color: #DDD;\n",
              "  }\n",
              "\n",
              "  [theme=dark] .colab-df-quickchart {\n",
              "      --bg-color: #3B4455;\n",
              "      --fill-color: #D2E3FC;\n",
              "      --hover-bg-color: #434B5C;\n",
              "      --hover-fill-color: #FFFFFF;\n",
              "      --disabled-bg-color: #3B4455;\n",
              "      --disabled-fill-color: #666;\n",
              "  }\n",
              "\n",
              "  .colab-df-quickchart {\n",
              "    background-color: var(--bg-color);\n",
              "    border: none;\n",
              "    border-radius: 50%;\n",
              "    cursor: pointer;\n",
              "    display: none;\n",
              "    fill: var(--fill-color);\n",
              "    height: 32px;\n",
              "    padding: 0;\n",
              "    width: 32px;\n",
              "  }\n",
              "\n",
              "  .colab-df-quickchart:hover {\n",
              "    background-color: var(--hover-bg-color);\n",
              "    box-shadow: 0 1px 2px rgba(60, 64, 67, 0.3), 0 1px 3px 1px rgba(60, 64, 67, 0.15);\n",
              "    fill: var(--button-hover-fill-color);\n",
              "  }\n",
              "\n",
              "  .colab-df-quickchart-complete:disabled,\n",
              "  .colab-df-quickchart-complete:disabled:hover {\n",
              "    background-color: var(--disabled-bg-color);\n",
              "    fill: var(--disabled-fill-color);\n",
              "    box-shadow: none;\n",
              "  }\n",
              "\n",
              "  .colab-df-spinner {\n",
              "    border: 2px solid var(--fill-color);\n",
              "    border-color: transparent;\n",
              "    border-bottom-color: var(--fill-color);\n",
              "    animation:\n",
              "      spin 1s steps(1) infinite;\n",
              "  }\n",
              "\n",
              "  @keyframes spin {\n",
              "    0% {\n",
              "      border-color: transparent;\n",
              "      border-bottom-color: var(--fill-color);\n",
              "      border-left-color: var(--fill-color);\n",
              "    }\n",
              "    20% {\n",
              "      border-color: transparent;\n",
              "      border-left-color: var(--fill-color);\n",
              "      border-top-color: var(--fill-color);\n",
              "    }\n",
              "    30% {\n",
              "      border-color: transparent;\n",
              "      border-left-color: var(--fill-color);\n",
              "      border-top-color: var(--fill-color);\n",
              "      border-right-color: var(--fill-color);\n",
              "    }\n",
              "    40% {\n",
              "      border-color: transparent;\n",
              "      border-right-color: var(--fill-color);\n",
              "      border-top-color: var(--fill-color);\n",
              "    }\n",
              "    60% {\n",
              "      border-color: transparent;\n",
              "      border-right-color: var(--fill-color);\n",
              "    }\n",
              "    80% {\n",
              "      border-color: transparent;\n",
              "      border-right-color: var(--fill-color);\n",
              "      border-bottom-color: var(--fill-color);\n",
              "    }\n",
              "    90% {\n",
              "      border-color: transparent;\n",
              "      border-bottom-color: var(--fill-color);\n",
              "    }\n",
              "  }\n",
              "</style>\n",
              "\n",
              "  <script>\n",
              "    async function quickchart(key) {\n",
              "      const quickchartButtonEl =\n",
              "        document.querySelector('#' + key + ' button');\n",
              "      quickchartButtonEl.disabled = true;  // To prevent multiple clicks.\n",
              "      quickchartButtonEl.classList.add('colab-df-spinner');\n",
              "      try {\n",
              "        const charts = await google.colab.kernel.invokeFunction(\n",
              "            'suggestCharts', [key], {});\n",
              "      } catch (error) {\n",
              "        console.error('Error during call to suggestCharts:', error);\n",
              "      }\n",
              "      quickchartButtonEl.classList.remove('colab-df-spinner');\n",
              "      quickchartButtonEl.classList.add('colab-df-quickchart-complete');\n",
              "    }\n",
              "    (() => {\n",
              "      let quickchartButtonEl =\n",
              "        document.querySelector('#df-136fbd20-70c5-4b7f-b9b3-df9c7c0312d9 button');\n",
              "      quickchartButtonEl.style.display =\n",
              "        google.colab.kernel.accessAllowed ? 'block' : 'none';\n",
              "    })();\n",
              "  </script>\n",
              "</div>\n",
              "\n",
              "  <div id=\"id_a132df4a-4312-42c5-bcac-1bcb39c00bd5\">\n",
              "    <style>\n",
              "      .colab-df-generate {\n",
              "        background-color: #E8F0FE;\n",
              "        border: none;\n",
              "        border-radius: 50%;\n",
              "        cursor: pointer;\n",
              "        display: none;\n",
              "        fill: #1967D2;\n",
              "        height: 32px;\n",
              "        padding: 0 0 0 0;\n",
              "        width: 32px;\n",
              "      }\n",
              "\n",
              "      .colab-df-generate:hover {\n",
              "        background-color: #E2EBFA;\n",
              "        box-shadow: 0px 1px 2px rgba(60, 64, 67, 0.3), 0px 1px 3px 1px rgba(60, 64, 67, 0.15);\n",
              "        fill: #174EA6;\n",
              "      }\n",
              "\n",
              "      [theme=dark] .colab-df-generate {\n",
              "        background-color: #3B4455;\n",
              "        fill: #D2E3FC;\n",
              "      }\n",
              "\n",
              "      [theme=dark] .colab-df-generate:hover {\n",
              "        background-color: #434B5C;\n",
              "        box-shadow: 0px 1px 3px 1px rgba(0, 0, 0, 0.15);\n",
              "        filter: drop-shadow(0px 1px 2px rgba(0, 0, 0, 0.3));\n",
              "        fill: #FFFFFF;\n",
              "      }\n",
              "    </style>\n",
              "    <button class=\"colab-df-generate\" onclick=\"generateWithVariable('df_report')\"\n",
              "            title=\"Generate code using this dataframe.\"\n",
              "            style=\"display:none;\">\n",
              "\n",
              "  <svg xmlns=\"http://www.w3.org/2000/svg\" height=\"24px\"viewBox=\"0 0 24 24\"\n",
              "       width=\"24px\">\n",
              "    <path d=\"M7,19H8.4L18.45,9,17,7.55,7,17.6ZM5,21V16.75L18.45,3.32a2,2,0,0,1,2.83,0l1.4,1.43a1.91,1.91,0,0,1,.58,1.4,1.91,1.91,0,0,1-.58,1.4L9.25,21ZM18.45,9,17,7.55Zm-12,3A5.31,5.31,0,0,0,4.9,8.1,5.31,5.31,0,0,0,1,6.5,5.31,5.31,0,0,0,4.9,4.9,5.31,5.31,0,0,0,6.5,1,5.31,5.31,0,0,0,8.1,4.9,5.31,5.31,0,0,0,12,6.5,5.46,5.46,0,0,0,6.5,12Z\"/>\n",
              "  </svg>\n",
              "    </button>\n",
              "    <script>\n",
              "      (() => {\n",
              "      const buttonEl =\n",
              "        document.querySelector('#id_a132df4a-4312-42c5-bcac-1bcb39c00bd5 button.colab-df-generate');\n",
              "      buttonEl.style.display =\n",
              "        google.colab.kernel.accessAllowed ? 'block' : 'none';\n",
              "\n",
              "      buttonEl.onclick = () => {\n",
              "        google.colab.notebook.generateWithVariable('df_report');\n",
              "      }\n",
              "      })();\n",
              "    </script>\n",
              "  </div>\n",
              "\n",
              "    </div>\n",
              "  </div>\n"
            ],
            "application/vnd.google.colaboratory.intrinsic+json": {
              "type": "dataframe",
              "variable_name": "df_report",
              "summary": "{\n  \"name\": \"df_report\",\n  \"rows\": 5,\n  \"fields\": [\n    {\n      \"column\": \"precision\",\n      \"properties\": {\n        \"dtype\": \"number\",\n        \"std\": 0.0032388441272653266,\n        \"min\": 0.9732579069169452,\n        \"max\": 0.9824127768799316,\n        \"num_unique_values\": 5,\n        \"samples\": [\n          0.9824127768799316,\n          0.9776508910342243,\n          0.9775984855314163\n        ],\n        \"semantic_type\": \"\",\n        \"description\": \"\"\n      }\n    },\n    {\n      \"column\": \"recall\",\n      \"properties\": {\n        \"dtype\": \"number\",\n        \"std\": 0.004695914275739582,\n        \"min\": 0.9706932181100882,\n        \"max\": 0.9839688041594454,\n        \"num_unique_values\": 4,\n        \"samples\": [\n          0.9706932181100882,\n          0.9773310111347668,\n          0.9839688041594454\n        ],\n        \"semantic_type\": \"\",\n        \"description\": \"\"\n      }\n    },\n    {\n      \"column\": \"f1-score\",\n      \"properties\": {\n        \"dtype\": \"number\",\n        \"std\": 0.0007309272854154298,\n        \"min\": 0.9765178360500827,\n        \"max\": 0.9785840479165769,\n        \"num_unique_values\": 5,\n        \"samples\": [\n          0.9765178360500827,\n          0.9775925716914485,\n          0.9775984855314163\n        ],\n        \"semantic_type\": \"\",\n        \"description\": \"\"\n      }\n    },\n    {\n      \"column\": \"support\",\n      \"properties\": {\n        \"dtype\": \"number\",\n        \"std\": 9286.099950524964,\n        \"min\": 0.9775984855314163,\n        \"max\": 22186.0,\n        \"num_unique_values\": 4,\n        \"samples\": [\n          10646.0,\n          22186.0,\n          11540.0\n        ],\n        \"semantic_type\": \"\",\n        \"description\": \"\"\n      }\n    }\n  ]\n}"
            }
          },
          "metadata": {},
          "execution_count": 11
        }
      ]
    },
    {
      "cell_type": "code",
      "source": [
        "with open('best_model.pkl', 'wb') as f:\n",
        "    pickle.dump(model, f)"
      ],
      "metadata": {
        "id": "ECvRd0d9Ld3s"
      },
      "execution_count": null,
      "outputs": []
    }
  ]
}
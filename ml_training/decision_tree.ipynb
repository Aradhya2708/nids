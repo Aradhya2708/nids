{
  "nbformat": 4,
  "nbformat_minor": 0,
  "metadata": {
    "colab": {
      "provenance": []
    },
    "kernelspec": {
      "name": "python3",
      "display_name": "Python 3"
    },
    "language_info": {
      "name": "python"
    }
  },
  "cells": [
    {
      "cell_type": "markdown",
      "source": [
        "# Imports"
      ],
      "metadata": {
        "id": "0S7uKHPvUDa5"
      }
    },
    {
      "cell_type": "code",
      "execution_count": null,
      "metadata": {
        "id": "xcAIskEy-hXQ"
      },
      "outputs": [],
      "source": [
        "import joblib\n",
        "import numpy as np\n",
        "import pandas as pd\n",
        "import matplotlib.pyplot as plt\n",
        "from sklearn.metrics import (\n",
        "    accuracy_score,\n",
        "    confusion_matrix,\n",
        "    ConfusionMatrixDisplay,\n",
        "    roc_curve,\n",
        "    auc,\n",
        "    RocCurveDisplay,\n",
        "    precision_recall_curve,\n",
        "    PrecisionRecallDisplay,\n",
        "    classification_report\n",
        ")"
      ]
    },
    {
      "cell_type": "markdown",
      "source": [
        "# Data Loading"
      ],
      "metadata": {
        "id": "jE8o38lrUFef"
      }
    },
    {
      "cell_type": "code",
      "source": [
        "data = joblib.load(\"data_splits.pkl\")\n",
        "\n",
        "X_train = data[\"X_train\"]\n",
        "X_val = data[\"X_val\"]\n",
        "X_test = data[\"X_test\"]\n",
        "y_train = data[\"y_train\"]\n",
        "y_val = data[\"y_val\"]\n",
        "y_test = data[\"y_test\"]"
      ],
      "metadata": {
        "id": "Cuq20u5x-n_s"
      },
      "execution_count": null,
      "outputs": []
    },
    {
      "cell_type": "markdown",
      "source": [
        "# Model"
      ],
      "metadata": {
        "id": "3DAouY70UHQX"
      }
    },
    {
      "cell_type": "code",
      "source": [
        "class DecisionTreeNode:\n",
        "    \"\"\"Class for a decision tree node.\"\"\"\n",
        "    def __init__(self, feature=None, threshold=None, left=None, right=None, value=None):\n",
        "        self.feature = feature\n",
        "        self.threshold = threshold\n",
        "        self.left = left\n",
        "        self.right = right\n",
        "        self.value = value\n",
        "\n",
        "class DecisionTree:\n",
        "    def __init__(self, max_depth=3):\n",
        "        self.max_depth = max_depth\n",
        "        self.root = None\n",
        "\n",
        "    def train(self, data, labels):\n",
        "        \"\"\"Initialize training by building the tree.\"\"\"\n",
        "        self.root = self._fit(data, labels, depth=0)\n",
        "\n",
        "    def _fit(self, data, labels, depth):\n",
        "        \"\"\"Recursively builds the decision tree.\"\"\"\n",
        "        if depth == self.max_depth or len(np.unique(labels)) == 1:\n",
        "            # Stop if max depth reached or node is pure\n",
        "            return DecisionTreeNode(value=np.bincount(labels).argmax())\n",
        "\n",
        "        best_feature, best_threshold = self._best_split(data, labels)\n",
        "\n",
        "        if best_feature is None or best_threshold is None:\n",
        "            # Stop if no good split is found\n",
        "            return DecisionTreeNode(value=np.bincount(labels).argmax())\n",
        "\n",
        "        left_mask = data[:, best_feature] <= best_threshold\n",
        "        right_mask = ~left_mask\n",
        "\n",
        "        if np.all(left_mask) or np.all(right_mask):\n",
        "            # Prevent infinite splitting\n",
        "            return DecisionTreeNode(value=np.bincount(labels).argmax())\n",
        "\n",
        "        left_child = self._fit(data[left_mask], labels[left_mask], depth + 1)\n",
        "        right_child = self._fit(data[right_mask], labels[right_mask], depth + 1)\n",
        "\n",
        "        return DecisionTreeNode(feature=best_feature, threshold=best_threshold, left=left_child, right=right_child)\n",
        "\n",
        "    def _best_split(self, data, labels):\n",
        "        \"\"\"Finds the best feature and threshold for splitting.\"\"\"\n",
        "        best_info_gain = -1\n",
        "        best_feature = None\n",
        "        best_threshold = None\n",
        "\n",
        "        num_features = data.shape[1]\n",
        "\n",
        "        for feature_index in range(num_features):\n",
        "            info_gain, threshold = self._compute_information_gain(data, feature_index, labels)\n",
        "            if info_gain > best_info_gain:\n",
        "                best_info_gain = info_gain\n",
        "                best_feature = feature_index\n",
        "                best_threshold = threshold\n",
        "\n",
        "        return best_feature, best_threshold\n",
        "\n",
        "    def _compute_information_gain(self, data, feature_index, labels):\n",
        "        \"\"\"Computes the best info gain and threshold for a feature.\"\"\"\n",
        "        parent_entropy = self._entropy(labels)\n",
        "\n",
        "        unique_values = np.unique(data[:, feature_index])\n",
        "        best_info_gain = -1\n",
        "        best_threshold = None\n",
        "\n",
        "        for i in range(len(unique_values) - 1):\n",
        "            threshold = (unique_values[i] + unique_values[i + 1]) / 2\n",
        "            left_mask = data[:, feature_index] <= threshold\n",
        "            right_mask = ~left_mask\n",
        "\n",
        "            left_entropy = self._entropy(labels[left_mask])\n",
        "            right_entropy = self._entropy(labels[right_mask])\n",
        "\n",
        "            weighted_entropy = (\n",
        "                (np.sum(left_mask) / len(labels)) * left_entropy +\n",
        "                (np.sum(right_mask) / len(labels)) * right_entropy\n",
        "            )\n",
        "            info_gain = parent_entropy - weighted_entropy\n",
        "\n",
        "            if info_gain > best_info_gain:\n",
        "                best_info_gain = info_gain\n",
        "                best_threshold = threshold\n",
        "\n",
        "        return best_info_gain, best_threshold\n",
        "\n",
        "    def _entropy(self, labels):\n",
        "        \"\"\"Computes entropy of a label set.\"\"\"\n",
        "        unique_labels, counts = np.unique(labels, return_counts=True)\n",
        "        probabilities = counts / len(labels)\n",
        "        entropy = -np.sum(probabilities * np.log2(probabilities))\n",
        "        return entropy\n",
        "\n",
        "    def _predict_single(self, x, node):\n",
        "        \"\"\"Predict label for one sample.\"\"\"\n",
        "        if node.value is not None:\n",
        "            return node.value\n",
        "        if x[node.feature] <= node.threshold:\n",
        "            return self._predict_single(x, node.left)\n",
        "        else:\n",
        "            return self._predict_single(x, node.right)\n",
        "\n",
        "    def predict(self, X):\n",
        "        \"\"\"Predict labels for a dataset.\"\"\"\n",
        "        return np.array([self._predict_single(x, self.root) for x in X])\n",
        "\n",
        "    def predict_prob(self, X):\n",
        "        \"\"\"Return probability estimates for each input sample.\"\"\"\n",
        "        return np.array([self._predict_proba_single(x, self.root) for x in X])\n",
        "\n",
        "    def _predict_prob_single(self, x, node):\n",
        "        \"\"\"Traverse the tree to compute class probabilities at leaf.\"\"\"\n",
        "        if node.value is not None:\n",
        "            # Return a probability distribution (for binary classification)\n",
        "            proba = np.zeros(2)\n",
        "            proba[node.value] = 1.0\n",
        "            return proba\n",
        "\n",
        "        if x[node.feature] <= node.threshold:\n",
        "            return self._predict_proba_single(x, node.left)\n",
        "        else:\n",
        "            return self._predict_proba_single(x, node.right)\n"
      ],
      "metadata": {
        "id": "Yy_QE6ua-uB9"
      },
      "execution_count": null,
      "outputs": []
    },
    {
      "cell_type": "markdown",
      "source": [
        "# Hyperparameter Tuning"
      ],
      "metadata": {
        "id": "Aa_ikayJUJqu"
      }
    },
    {
      "cell_type": "code",
      "source": [
        "depths = range(1, 11)\n",
        "tree_acc = []\n",
        "\n",
        "for d in depths:\n",
        "    model = DecisionTree(max_depth=d)\n",
        "    model.train(X_train.values, y_train.values)\n",
        "    predictions = model.predict(X_train.values)\n",
        "    acc = np.mean(predictions == y_train)\n",
        "\n",
        "    print(f\"[Decision Tree] Max Depth: {d} -> Validation Accuracy (after pruning): {acc:.4f}\")\n",
        "    tree_acc.append(acc)\n",
        "\n",
        "plt.plot(depths, tree_acc, marker='o', label='Decision Tree (Post-Pruned)')\n",
        "plt.xlabel(\"Max Depth\")\n",
        "plt.ylabel(\"Validation Accuracy\")\n",
        "plt.title(\"Decision Tree Accuracy vs Max Depth (Pruned)\")\n",
        "plt.grid(True)\n",
        "plt.legend()\n",
        "plt.show()"
      ],
      "metadata": {
        "colab": {
          "base_uri": "https://localhost:8080/",
          "height": 646
        },
        "id": "GLx4zZkxC4Lg",
        "outputId": "2fc2bf47-c66d-454f-f7df-185eec1d239c"
      },
      "execution_count": null,
      "outputs": [
        {
          "output_type": "stream",
          "name": "stdout",
          "text": [
            "[Decision Tree] Max Depth: 1 -> Validation Accuracy (after pruning): 0.8610\n",
            "[Decision Tree] Max Depth: 2 -> Validation Accuracy (after pruning): 0.9006\n",
            "[Decision Tree] Max Depth: 3 -> Validation Accuracy (after pruning): 0.9465\n",
            "[Decision Tree] Max Depth: 4 -> Validation Accuracy (after pruning): 0.9491\n",
            "[Decision Tree] Max Depth: 5 -> Validation Accuracy (after pruning): 0.9686\n",
            "[Decision Tree] Max Depth: 6 -> Validation Accuracy (after pruning): 0.9782\n",
            "[Decision Tree] Max Depth: 7 -> Validation Accuracy (after pruning): 0.9804\n",
            "[Decision Tree] Max Depth: 8 -> Validation Accuracy (after pruning): 0.9822\n",
            "[Decision Tree] Max Depth: 9 -> Validation Accuracy (after pruning): 0.9871\n",
            "[Decision Tree] Max Depth: 10 -> Validation Accuracy (after pruning): 0.9932\n"
          ]
        },
        {
          "output_type": "display_data",
          "data": {
            "text/plain": [
              "<Figure size 640x480 with 1 Axes>"
            ],
            "image/png": "[encoded data removed]"
          },
          "metadata": {}
        }
      ]
    },
    {
      "cell_type": "markdown",
      "source": [
        "# Training on best Hyperparameters"
      ],
      "metadata": {
        "id": "g2hiYBxHUNOx"
      }
    },
    {
      "cell_type": "code",
      "source": [
        "best_depth = 5\n",
        "\n",
        "model = DecisionTree(max_depth=best_depth)\n",
        "model.train(X_train.values, y_train.values)\n",
        "y_pred = model.predict(X_test.values)\n",
        "y_prob = model.predict_prob(X_test.values)[:, 1]\n",
        "\n",
        "print(\"Test Set Accuracy:\", accuracy_score(y_test, y_pred))"
      ],
      "metadata": {
        "colab": {
          "base_uri": "https://localhost:8080/"
        },
        "id": "JHAMy1U3C7WH",
        "outputId": "969e4b51-c5cf-4271-b40a-6cc8bdca23e9"
      },
      "execution_count": null,
      "outputs": [
        {
          "output_type": "stream",
          "name": "stdout",
          "text": [
            "Test Set Accuracy: 0.9679076895339404\n"
          ]
        }
      ]
    },
    {
      "cell_type": "markdown",
      "source": [
        "# Result Evaluation"
      ],
      "metadata": {
        "id": "hB2w7tOFUQ0n"
      }
    },
    {
      "cell_type": "code",
      "source": [
        "cm = confusion_matrix(y_test, y_pred)\n",
        "disp = ConfusionMatrixDisplay(confusion_matrix=cm)\n",
        "disp.plot(cmap=\"Blues\")\n",
        "plt.title(\"Confusion Matrix\")\n",
        "plt.show()"
      ],
      "metadata": {
        "colab": {
          "base_uri": "https://localhost:8080/",
          "height": 472
        },
        "id": "6NF0E2_EEKoH",
        "outputId": "9276260c-2b34-4b0f-b99e-9f47d504fe65"
      },
      "execution_count": null,
      "outputs": [
        {
          "output_type": "display_data",
          "data": {
            "text/plain": [
              "<Figure size 640x480 with 2 Axes>"
            ],
            "image/png": "[encoded data removed]"
          },
          "metadata": {}
        }
      ]
    },
    {
      "cell_type": "code",
      "source": [
        "fpr, tpr, _ = roc_curve(y_test, y_prob)\n",
        "roc_auc = auc(fpr, tpr)\n",
        "RocCurveDisplay(fpr=fpr, tpr=tpr, roc_auc=roc_auc).plot()\n",
        "plt.title(f\"ROC Curve (AUC = {roc_auc:.2f})\")\n",
        "plt.tight_layout()\n",
        "plt.show()"
      ],
      "metadata": {
        "colab": {
          "base_uri": "https://localhost:8080/",
          "height": 487
        },
        "id": "Lq4p01jbN_q4",
        "outputId": "d8932ac1-9d81-4052-8493-1bda816520b4"
      },
      "execution_count": null,
      "outputs": [
        {
          "output_type": "display_data",
          "data": {
            "text/plain": [
              "<Figure size 640x480 with 1 Axes>"
            ],
            "image/png": "[encoded data removed]"
          },
          "metadata": {}
        }
      ]
    },
    {
      "cell_type": "code",
      "source": [
        "precision, recall, _ = precision_recall_curve(y_test, y_prob)\n",
        "PrecisionRecallDisplay(precision=precision, recall=recall).plot()\n",
        "plt.title(\"Precision-Recall Curve\")\n",
        "plt.show()"
      ],
      "metadata": {
        "colab": {
          "base_uri": "https://localhost:8080/",
          "height": 472
        },
        "id": "cNfS6LfgHDaz",
        "outputId": "e8a24623-2902-4470-e894-2e5cd49febba"
      },
      "execution_count": null,
      "outputs": [
        {
          "output_type": "display_data",
          "data": {
            "text/plain": [
              "<Figure size 640x480 with 1 Axes>"
            ],
            "image/png": "[encoded data removed]"
          },
          "metadata": {}
        }
      ]
    },
    {
      "cell_type": "code",
      "source": [
        "report = classification_report(y_test, y_pred, output_dict=True)\n",
        "df_report = pd.DataFrame(report).transpose()\n",
        "df_report"
      ],
      "metadata": {
        "colab": {
          "base_uri": "https://localhost:8080/",
          "height": 206
        },
        "id": "bsRHPbCKHFWG",
        "outputId": "2268c75e-856d-4cfd-f1c6-add119c95e68"
      },
      "execution_count": null,
      "outputs": [
        {
          "output_type": "execute_result",
          "data": {
            "text/plain": [
              "              precision    recall  f1-score       support\n",
              "0              0.962024  0.976863  0.969387  11540.000000\n",
              "1              0.974494  0.958200  0.966278  10646.000000\n",
              "accuracy       0.967908  0.967908  0.967908      0.967908\n",
              "macro avg      0.968259  0.967532  0.967833  22186.000000\n",
              "weighted avg   0.968008  0.967908  0.967895  22186.000000"
            ],
            "text/html": [
              "\n",
              "  <div id=\"df-083ab20d-83bc-4aa8-88f8-051807771626\" class=\"colab-df-container\">\n",
              "    <div>\n",
              "<style scoped>\n",
              "    .dataframe tbody tr th:only-of-type {\n",
              "        vertical-align: middle;\n",
              "    }\n",
              "\n",
              "    .dataframe tbody tr th {\n",
              "        vertical-align: top;\n",
              "    }\n",
              "\n",
              "    .dataframe thead th {\n",
              "        text-align: right;\n",
              "    }\n",
              "</style>\n",
              "<table border=\"1\" class=\"dataframe\">\n",
              "  <thead>\n",
              "    <tr style=\"text-align: right;\">\n",
              "      <th></th>\n",
              "      <th>precision</th>\n",
              "      <th>recall</th>\n",
              "      <th>f1-score</th>\n",
              "      <th>support</th>\n",
              "    </tr>\n",
              "  </thead>\n",
              "  <tbody>\n",
              "    <tr>\n",
              "      <th>0</th>\n",
              "      <td>0.962024</td>\n",
              "      <td>0.976863</td>\n",
              "      <td>0.969387</td>\n",
              "      <td>11540.000000</td>\n",
              "    </tr>\n",
              "    <tr>\n",
              "      <th>1</th>\n",
              "      <td>0.974494</td>\n",
              "      <td>0.958200</td>\n",
              "      <td>0.966278</td>\n",
              "      <td>10646.000000</td>\n",
              "    </tr>\n",
              "    <tr>\n",
              "      <th>accuracy</th>\n",
              "      <td>0.967908</td>\n",
              "      <td>0.967908</td>\n",
              "      <td>0.967908</td>\n",
              "      <td>0.967908</td>\n",
              "    </tr>\n",
              "    <tr>\n",
              "      <th>macro avg</th>\n",
              "      <td>0.968259</td>\n",
              "      <td>0.967532</td>\n",
              "      <td>0.967833</td>\n",
              "      <td>22186.000000</td>\n",
              "    </tr>\n",
              "    <tr>\n",
              "      <th>weighted avg</th>\n",
              "      <td>0.968008</td>\n",
              "      <td>0.967908</td>\n",
              "      <td>0.967895</td>\n",
              "      <td>22186.000000</td>\n",
              "    </tr>\n",
              "  </tbody>\n",
              "</table>\n",
              "</div>\n",
              "    <div class=\"colab-df-buttons\">\n",
              "\n",
              "  <div class=\"colab-df-container\">\n",
              "    <button class=\"colab-df-convert\" onclick=\"convertToInteractive('df-083ab20d-83bc-4aa8-88f8-051807771626')\"\n",
              "            title=\"Convert this dataframe to an interactive table.\"\n",
              "            style=\"display:none;\">\n",
              "\n",
              "  <svg xmlns=\"http://www.w3.org/2000/svg\" height=\"24px\" viewBox=\"0 -960 960 960\">\n",
              "    <path d=\"M120-120v-720h720v720H120Zm60-500h600v-160H180v160Zm220 220h160v-160H400v160Zm0 220h160v-160H400v160ZM180-400h160v-160H180v160Zm440 0h160v-160H620v160ZM180-180h160v-160H180v160Zm440 0h160v-160H620v160Z\"/>\n",
              "  </svg>\n",
              "    </button>\n",
              "\n",
              "  <style>\n",
              "    .colab-df-container {\n",
              "      display:flex;\n",
              "      gap: 12px;\n",
              "    }\n",
              "\n",
              "    .colab-df-convert {\n",
              "      background-color: #E8F0FE;\n",
              "      border: none;\n",
              "      border-radius: 50%;\n",
              "      cursor: pointer;\n",
              "      display: none;\n",
              "      fill: #1967D2;\n",
              "      height: 32px;\n",
              "      padding: 0 0 0 0;\n",
              "      width: 32px;\n",
              "    }\n",
              "\n",
              "    .colab-df-convert:hover {\n",
              "      background-color: #E2EBFA;\n",
              "      box-shadow: 0px 1px 2px rgba(60, 64, 67, 0.3), 0px 1px 3px 1px rgba(60, 64, 67, 0.15);\n",
              "      fill: #174EA6;\n",
              "    }\n",
              "\n",
              "    .colab-df-buttons div {\n",
              "      margin-bottom: 4px;\n",
              "    }\n",
              "\n",
              "    [theme=dark] .colab-df-convert {\n",
              "      background-color: #3B4455;\n",
              "      fill: #D2E3FC;\n",
              "    }\n",
              "\n",
              "    [theme=dark] .colab-df-convert:hover {\n",
              "      background-color: #434B5C;\n",
              "      box-shadow: 0px 1px 3px 1px rgba(0, 0, 0, 0.15);\n",
              "      filter: drop-shadow(0px 1px 2px rgba(0, 0, 0, 0.3));\n",
              "      fill: #FFFFFF;\n",
              "    }\n",
              "  </style>\n",
              "\n",
              "    <script>\n",
              "      const buttonEl =\n",
              "        document.querySelector('#df-083ab20d-83bc-4aa8-88f8-051807771626 button.colab-df-convert');\n",
              "      buttonEl.style.display =\n",
              "        google.colab.kernel.accessAllowed ? 'block' : 'none';\n",
              "\n",
              "      async function convertToInteractive(key) {\n",
              "        const element = document.querySelector('#df-083ab20d-83bc-4aa8-88f8-051807771626');\n",
              "        const dataTable =\n",
              "          await google.colab.kernel.invokeFunction('convertToInteractive',\n",
              "                                                    [key], {});\n",
              "        if (!dataTable) return;\n",
              "\n",
              "        const docLinkHtml = 'Like what you see? Visit the ' +\n",
              "          '<a target=\"_blank\" href=https://colab.research.google.com/notebooks/data_table.ipynb>data table notebook</a>'\n",
              "          + ' to learn more about interactive tables.';\n",
              "        element.innerHTML = '';\n",
              "        dataTable['output_type'] = 'display_data';\n",
              "        await google.colab.output.renderOutput(dataTable, element);\n",
              "        const docLink = document.createElement('div');\n",
              "        docLink.innerHTML = docLinkHtml;\n",
              "        element.appendChild(docLink);\n",
              "      }\n",
              "    </script>\n",
              "  </div>\n",
              "\n",
              "\n",
              "<div id=\"df-8c78319d-0f6e-4626-9f70-44616a122e48\">\n",
              "  <button class=\"colab-df-quickchart\" onclick=\"quickchart('df-8c78319d-0f6e-4626-9f70-44616a122e48')\"\n",
              "            title=\"Suggest charts\"\n",
              "            style=\"display:none;\">\n",
              "\n",
              "<svg xmlns=\"http://www.w3.org/2000/svg\" height=\"24px\"viewBox=\"0 0 24 24\"\n",
              "     width=\"24px\">\n",
              "    <g>\n",
              "        <path d=\"M19 3H5c-1.1 0-2 .9-2 2v14c0 1.1.9 2 2 2h14c1.1 0 2-.9 2-2V5c0-1.1-.9-2-2-2zM9 17H7v-7h2v7zm4 0h-2V7h2v10zm4 0h-2v-4h2v4z\"/>\n",
              "    </g>\n",
              "</svg>\n",
              "  </button>\n",
              "\n",
              "<style>\n",
              "  .colab-df-quickchart {\n",
              "      --bg-color: #E8F0FE;\n",
              "      --fill-color: #1967D2;\n",
              "      --hover-bg-color: #E2EBFA;\n",
              "      --hover-fill-color: #174EA6;\n",
              "      --disabled-fill-color: #AAA;\n",
              "      --disabled-bg-color: #DDD;\n",
              "  }\n",
              "\n",
              "  [theme=dark] .colab-df-quickchart {\n",
              "      --bg-color: #3B4455;\n",
              "      --fill-color: #D2E3FC;\n",
              "      --hover-bg-color: #434B5C;\n",
              "      --hover-fill-color: #FFFFFF;\n",
              "      --disabled-bg-color: #3B4455;\n",
              "      --disabled-fill-color: #666;\n",
              "  }\n",
              "\n",
              "  .colab-df-quickchart {\n",
              "    background-color: var(--bg-color);\n",
              "    border: none;\n",
              "    border-radius: 50%;\n",
              "    cursor: pointer;\n",
              "    display: none;\n",
              "    fill: var(--fill-color);\n",
              "    height: 32px;\n",
              "    padding: 0;\n",
              "    width: 32px;\n",
              "  }\n",
              "\n",
              "  .colab-df-quickchart:hover {\n",
              "    background-color: var(--hover-bg-color);\n",
              "    box-shadow: 0 1px 2px rgba(60, 64, 67, 0.3), 0 1px 3px 1px rgba(60, 64, 67, 0.15);\n",
              "    fill: var(--button-hover-fill-color);\n",
              "  }\n",
              "\n",
              "  .colab-df-quickchart-complete:disabled,\n",
              "  .colab-df-quickchart-complete:disabled:hover {\n",
              "    background-color: var(--disabled-bg-color);\n",
              "    fill: var(--disabled-fill-color);\n",
              "    box-shadow: none;\n",
              "  }\n",
              "\n",
              "  .colab-df-spinner {\n",
              "    border: 2px solid var(--fill-color);\n",
              "    border-color: transparent;\n",
              "    border-bottom-color: var(--fill-color);\n",
              "    animation:\n",
              "      spin 1s steps(1) infinite;\n",
              "  }\n",
              "\n",
              "  @keyframes spin {\n",
              "    0% {\n",
              "      border-color: transparent;\n",
              "      border-bottom-color: var(--fill-color);\n",
              "      border-left-color: var(--fill-color);\n",
              "    }\n",
              "    20% {\n",
              "      border-color: transparent;\n",
              "      border-left-color: var(--fill-color);\n",
              "      border-top-color: var(--fill-color);\n",
              "    }\n",
              "    30% {\n",
              "      border-color: transparent;\n",
              "      border-left-color: var(--fill-color);\n",
              "      border-top-color: var(--fill-color);\n",
              "      border-right-color: var(--fill-color);\n",
              "    }\n",
              "    40% {\n",
              "      border-color: transparent;\n",
              "      border-right-color: var(--fill-color);\n",
              "      border-top-color: var(--fill-color);\n",
              "    }\n",
              "    60% {\n",
              "      border-color: transparent;\n",
              "      border-right-color: var(--fill-color);\n",
              "    }\n",
              "    80% {\n",
              "      border-color: transparent;\n",
              "      border-right-color: var(--fill-color);\n",
              "      border-bottom-color: var(--fill-color);\n",
              "    }\n",
              "    90% {\n",
              "      border-color: transparent;\n",
              "      border-bottom-color: var(--fill-color);\n",
              "    }\n",
              "  }\n",
              "</style>\n",
              "\n",
              "  <script>\n",
              "    async function quickchart(key) {\n",
              "      const quickchartButtonEl =\n",
              "        document.querySelector('#' + key + ' button');\n",
              "      quickchartButtonEl.disabled = true;  // To prevent multiple clicks.\n",
              "      quickchartButtonEl.classList.add('colab-df-spinner');\n",
              "      try {\n",
              "        const charts = await google.colab.kernel.invokeFunction(\n",
              "            'suggestCharts', [key], {});\n",
              "      } catch (error) {\n",
              "        console.error('Error during call to suggestCharts:', error);\n",
              "      }\n",
              "      quickchartButtonEl.classList.remove('colab-df-spinner');\n",
              "      quickchartButtonEl.classList.add('colab-df-quickchart-complete');\n",
              "    }\n",
              "    (() => {\n",
              "      let quickchartButtonEl =\n",
              "        document.querySelector('#df-8c78319d-0f6e-4626-9f70-44616a122e48 button');\n",
              "      quickchartButtonEl.style.display =\n",
              "        google.colab.kernel.accessAllowed ? 'block' : 'none';\n",
              "    })();\n",
              "  </script>\n",
              "</div>\n",
              "\n",
              "  <div id=\"id_fa273e11-6660-436c-a93b-8169256a0e70\">\n",
              "    <style>\n",
              "      .colab-df-generate {\n",
              "        background-color: #E8F0FE;\n",
              "        border: none;\n",
              "        border-radius: 50%;\n",
              "        cursor: pointer;\n",
              "        display: none;\n",
              "        fill: #1967D2;\n",
              "        height: 32px;\n",
              "        padding: 0 0 0 0;\n",
              "        width: 32px;\n",
              "      }\n",
              "\n",
              "      .colab-df-generate:hover {\n",
              "        background-color: #E2EBFA;\n",
              "        box-shadow: 0px 1px 2px rgba(60, 64, 67, 0.3), 0px 1px 3px 1px rgba(60, 64, 67, 0.15);\n",
              "        fill: #174EA6;\n",
              "      }\n",
              "\n",
              "      [theme=dark] .colab-df-generate {\n",
              "        background-color: #3B4455;\n",
              "        fill: #D2E3FC;\n",
              "      }\n",
              "\n",
              "      [theme=dark] .colab-df-generate:hover {\n",
              "        background-color: #434B5C;\n",
              "        box-shadow: 0px 1px 3px 1px rgba(0, 0, 0, 0.15);\n",
              "        filter: drop-shadow(0px 1px 2px rgba(0, 0, 0, 0.3));\n",
              "        fill: #FFFFFF;\n",
              "      }\n",
              "    </style>\n",
              "    <button class=\"colab-df-generate\" onclick=\"generateWithVariable('df_report')\"\n",
              "            title=\"Generate code using this dataframe.\"\n",
              "            style=\"display:none;\">\n",
              "\n",
              "  <svg xmlns=\"http://www.w3.org/2000/svg\" height=\"24px\"viewBox=\"0 0 24 24\"\n",
              "       width=\"24px\">\n",
              "    <path d=\"M7,19H8.4L18.45,9,17,7.55,7,17.6ZM5,21V16.75L18.45,3.32a2,2,0,0,1,2.83,0l1.4,1.43a1.91,1.91,0,0,1,.58,1.4,1.91,1.91,0,0,1-.58,1.4L9.25,21ZM18.45,9,17,7.55Zm-12,3A5.31,5.31,0,0,0,4.9,8.1,5.31,5.31,0,0,0,1,6.5,5.31,5.31,0,0,0,4.9,4.9,5.31,5.31,0,0,0,6.5,1,5.31,5.31,0,0,0,8.1,4.9,5.31,5.31,0,0,0,12,6.5,5.46,5.46,0,0,0,6.5,12Z\"/>\n",
              "  </svg>\n",
              "    </button>\n",
              "    <script>\n",
              "      (() => {\n",
              "      const buttonEl =\n",
              "        document.querySelector('#id_fa273e11-6660-436c-a93b-8169256a0e70 button.colab-df-generate');\n",
              "      buttonEl.style.display =\n",
              "        google.colab.kernel.accessAllowed ? 'block' : 'none';\n",
              "\n",
              "      buttonEl.onclick = () => {\n",
              "        google.colab.notebook.generateWithVariable('df_report');\n",
              "      }\n",
              "      })();\n",
              "    </script>\n",
              "  </div>\n",
              "\n",
              "    </div>\n",
              "  </div>\n"
            ],
            "application/vnd.google.colaboratory.intrinsic+json": {
              "type": "dataframe",
              "variable_name": "df_report",
              "summary": "{\n  \"name\": \"df_report\",\n  \"rows\": 5,\n  \"fields\": [\n    {\n      \"column\": \"precision\",\n      \"properties\": {\n        \"dtype\": \"number\",\n        \"std\": 0.004411848009545207,\n        \"min\": 0.9620242362177847,\n        \"max\": 0.9744936950706916,\n        \"num_unique_values\": 5,\n        \"samples\": [\n          0.9744936950706916,\n          0.9680077329701532,\n          0.9679076895339404\n        ],\n        \"semantic_type\": \"\",\n        \"description\": \"\"\n      }\n    },\n    {\n      \"column\": \"recall\",\n      \"properties\": {\n        \"dtype\": \"number\",\n        \"std\": 0.006601517365661285,\n        \"min\": 0.958200263009581,\n        \"max\": 0.9768630849220103,\n        \"num_unique_values\": 4,\n        \"samples\": [\n          0.958200263009581,\n          0.9675316739657958,\n          0.9768630849220103\n        ],\n        \"semantic_type\": \"\",\n        \"description\": \"\"\n      }\n    },\n    {\n      \"column\": \"f1-score\",\n      \"properties\": {\n        \"dtype\": \"number\",\n        \"std\": 0.0010997045209476194,\n        \"min\": 0.9662782987591172,\n        \"max\": 0.9693868776335024,\n        \"num_unique_values\": 5,\n        \"samples\": [\n          0.9662782987591172,\n          0.9678952193491472,\n          0.9679076895339404\n        ],\n        \"semantic_type\": \"\",\n        \"description\": \"\"\n      }\n    },\n    {\n      \"column\": \"support\",\n      \"properties\": {\n        \"dtype\": \"number\",\n        \"std\": 9286.103423253968,\n        \"min\": 0.9679076895339404,\n        \"max\": 22186.0,\n        \"num_unique_values\": 4,\n        \"samples\": [\n          10646.0,\n          22186.0,\n          11540.0\n        ],\n        \"semantic_type\": \"\",\n        \"description\": \"\"\n      }\n    }\n  ]\n}"
            }
          },
          "metadata": {},
          "execution_count": 17
        }
      ]
    }
  ]
}